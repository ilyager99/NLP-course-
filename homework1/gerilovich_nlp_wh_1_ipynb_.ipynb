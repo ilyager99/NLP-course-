{
  "cells": [
    {
      "cell_type": "markdown",
      "metadata": {
        "id": "N5tpTcbh9Y0S"
      },
      "source": [
        "# Homework: word-level embedding and query search engine\n",
        "\n",
        "Broadly speaking, your task will be to:\n",
        "- Train a fasttext model on War and Peace by Leo Tolstoy\n",
        "- Finetune (continue training) obtained embeddings using quora questions in order to account for new tokens and ever-changing semantic meaning\n",
        "- Embed existing quora questions and store them for later use\n",
        "- Implement a way to search the closest match among quora questions for an unseen text\n",
        "\n",
        "Good luck!"
      ]
    },
    {
      "cell_type": "markdown",
      "metadata": {
        "id": "X9wbkl1_K2pX"
      },
      "source": [
        "# Training initial embeddings (4 points)\n",
        "\n",
        "Your first task will be to train embeddings on War and Peace by Leo Tolstoy. using a word2vec extention called fasttext.\n",
        "\n",
        "There are certain differences with a vanilla word2vec, which you can read about [here](https://github.com/facebookresearch/fastText?tab=readme-ov-file), for example, but for all intents and purposes it is easier to treat fasttext as a word2vec on steroids.\n",
        "\n",
        "The most important difference, arguably, is that the model vocabulary is constructed not only using word-level tokens, but also their n-grams e.g. for a word \"peace\" the resulting tokens using 2-grams would look like (peace, pe, ea, ac, ce).\n",
        "\n",
        "This allows the model not only to handle out-of-vocabulary words by combining the corresponding subword tokens, but also to lift the need for word normalization (stemming, lemmatization) in some cases, preserving semantics in morphology-rich languages."
      ]
    },
    {
      "cell_type": "code",
      "execution_count": 397,
      "metadata": {
        "id": "aQvA2lKuIH0I",
        "colab": {
          "base_uri": "https://localhost:8080/"
        },
        "outputId": "c202a72f-077f-4189-b6b7-258d7a2025ed"
      },
      "outputs": [
        {
          "output_type": "stream",
          "name": "stdout",
          "text": [
            "Requirement already satisfied: unidecode in /usr/local/lib/python3.12/dist-packages (1.4.0)\n",
            "Requirement already satisfied: faiss-cpu in /usr/local/lib/python3.12/dist-packages (1.12.0)\n",
            "Requirement already satisfied: numpy<3.0,>=1.25.0 in /usr/local/lib/python3.12/dist-packages (from faiss-cpu) (1.26.4)\n",
            "Requirement already satisfied: packaging in /usr/local/lib/python3.12/dist-packages (from faiss-cpu) (25.0)\n",
            "Requirement already satisfied: gensim in /usr/local/lib/python3.12/dist-packages (4.3.3)\n",
            "Requirement already satisfied: numpy<2.0,>=1.18.5 in /usr/local/lib/python3.12/dist-packages (from gensim) (1.26.4)\n",
            "Requirement already satisfied: scipy<1.14.0,>=1.7.0 in /usr/local/lib/python3.12/dist-packages (from gensim) (1.13.1)\n",
            "Requirement already satisfied: smart-open>=1.8.1 in /usr/local/lib/python3.12/dist-packages (from gensim) (7.3.1)\n",
            "Requirement already satisfied: wrapt in /usr/local/lib/python3.12/dist-packages (from smart-open>=1.8.1->gensim) (1.17.3)\n",
            "Requirement already satisfied: nltk in /usr/local/lib/python3.12/dist-packages (3.9.1)\n",
            "Requirement already satisfied: click in /usr/local/lib/python3.12/dist-packages (from nltk) (8.2.1)\n",
            "Requirement already satisfied: joblib in /usr/local/lib/python3.12/dist-packages (from nltk) (1.5.2)\n",
            "Requirement already satisfied: regex>=2021.8.3 in /usr/local/lib/python3.12/dist-packages (from nltk) (2024.11.6)\n",
            "Requirement already satisfied: tqdm in /usr/local/lib/python3.12/dist-packages (from nltk) (4.67.1)\n"
          ]
        },
        {
          "output_type": "stream",
          "name": "stderr",
          "text": [
            "[nltk_data] Downloading package punkt_tab to /root/nltk_data...\n",
            "[nltk_data]   Package punkt_tab is already up-to-date!\n"
          ]
        }
      ],
      "source": [
        "!pip install unidecode\n",
        "!pip install faiss-cpu\n",
        "!pip install gensim\n",
        "!pip install nltk\n",
        "\n",
        "import re\n",
        "from typing import Union, List, Tuple, Callable\n",
        "\n",
        "import nltk\n",
        "import faiss\n",
        "import numpy as np\n",
        "from unidecode import unidecode\n",
        "from gensim.models import FastText\n",
        "from gensim.models.word2vec import PathLineSentences\n",
        "\n",
        "nltk.download('punkt_tab')\n",
        "\n",
        "# Set seed for reproducibility\n",
        "# Note that in order to do the computations trully determenistic\n",
        "# it is required to run the code using a sigle thread\n",
        "seed = 42"
      ]
    },
    {
      "cell_type": "markdown",
      "metadata": {
        "id": "bj_4h-PRfY73"
      },
      "source": [
        "Load war and peace text file from Gutenberg project repository."
      ]
    },
    {
      "cell_type": "code",
      "execution_count": 398,
      "metadata": {
        "id": "xeZn-hIDKGsn",
        "colab": {
          "base_uri": "https://localhost:8080/"
        },
        "outputId": "f6992833-cd2e-4a87-d607-1bff9925637c"
      },
      "outputs": [
        {
          "output_type": "stream",
          "name": "stdout",
          "text": [
            "--2025-10-01 19:43:12--  https://www.gutenberg.org/files/2600/2600-0.txt\n",
            "Resolving www.gutenberg.org (www.gutenberg.org)... 152.19.134.47, 2610:28:3090:3000:0:bad:cafe:47\n",
            "Connecting to www.gutenberg.org (www.gutenberg.org)|152.19.134.47|:443... connected.\n",
            "HTTP request sent, awaiting response... 200 OK\n",
            "Length: 3359405 (3.2M) [text/plain]\n",
            "Saving to: ‘war_and_peace_raw.txt’\n",
            "\n",
            "war_and_peace_raw.t 100%[===================>]   3.20M  4.70MB/s    in 0.7s    \n",
            "\n",
            "2025-10-01 19:43:13 (4.70 MB/s) - ‘war_and_peace_raw.txt’ saved [3359405/3359405]\n",
            "\n"
          ]
        }
      ],
      "source": [
        "!wget \"https://www.gutenberg.org/files/2600/2600-0.txt\" -O war_and_peace_raw.txt"
      ]
    },
    {
      "cell_type": "code",
      "execution_count": 399,
      "metadata": {
        "id": "3XzDrMW_K_al"
      },
      "outputs": [],
      "source": [
        "wap_raw_file_path = 'war_and_peace_raw.txt'\n",
        "wap_cleaned_file_path = 'war_and_peace_cleaned.txt'"
      ]
    },
    {
      "cell_type": "markdown",
      "metadata": {
        "id": "2oudD5cgf4HW"
      },
      "source": [
        "Note that the text contains information redundant for the task, so we need to preprocess the file first."
      ]
    },
    {
      "cell_type": "code",
      "execution_count": 400,
      "metadata": {
        "id": "JiOOgPlrf8d5",
        "colab": {
          "base_uri": "https://localhost:8080/"
        },
        "outputId": "e03ea7b0-92a0-4ddd-f592-21cd8e532fd1"
      },
      "outputs": [
        {
          "output_type": "stream",
          "name": "stdout",
          "text": [
            "﻿The Project Gutenberg eBook of War and Peace, by Leo Tolstoy\r\n",
            "\r\n",
            "This eBook is for the use of anyone anywhere in the United States and\r\n",
            "most other parts of the world at no cost and with almost no restrictions\r\n",
            "whatsoever. You may copy it, give it away or re-use it under the terms\r\n",
            "of the Project Gutenberg License included with this eBook or online at\r\n",
            "www.gutenberg.org. If you are not located in the United States, you\r\n",
            "will have to check the laws of the country where you are located before\r\n",
            "using this eBook.\r\n",
            "\r\n"
          ]
        }
      ],
      "source": [
        "!head war_and_peace_raw.txt"
      ]
    },
    {
      "cell_type": "code",
      "execution_count": 401,
      "metadata": {
        "id": "mAgEH8hTLMGZ"
      },
      "outputs": [],
      "source": [
        "# Load the text from the file\n",
        "with open(wap_raw_file_path, 'r', encoding='utf-8') as file:\n",
        "    text = file.read()\n",
        "\n",
        "# Remove the header and footer\n",
        "start_marker = \"*** START OF THE PROJECT GUTENBERG EBOOK WAR AND PEACE ***\"\n",
        "end_marker = \"*** END OF THE PROJECT GUTENBERG EBOOK WAR AND PEACE ***\"\n",
        "text = text.split(start_marker, 1)[-1]  # Remove everything before the start marker\n",
        "text = text.split(end_marker, 1)[0]     # Remove everything after the end marker\n",
        "\n",
        "# Split the text into lines and filter out unwanted ones\n",
        "lines = text.split(\"\\n\")\n",
        "filtered_lines = []\n",
        "for line in lines:\n",
        "    line = line.strip()\n",
        "    # Remove lines that are empty or contain chapter headers or non-content information\n",
        "    if not line or line.startswith(\"CHAPTER\") or line.isupper():\n",
        "        continue\n",
        "    filtered_lines.append(line)\n",
        "\n",
        "# Join the lines back into a single string\n",
        "cleaned_text = \"\\n\".join(filtered_lines[2:])"
      ]
    },
    {
      "cell_type": "markdown",
      "metadata": {
        "id": "5dva_nQlg3tq"
      },
      "source": [
        "The text contains some non-ascii characters for historical reasons. One way to deal with it is to cast them to the closest ascii equivalent.\n",
        "\n",
        "Note that it is not always required and in some cases may affect the model performance in a bad way.\n",
        "\n",
        "*In short, if you feel that these characters are needed, leave them be.*"
      ]
    },
    {
      "cell_type": "code",
      "execution_count": 402,
      "metadata": {
        "id": "xgYaB7n-Ljmv"
      },
      "outputs": [],
      "source": [
        "# Normalize to ASCII\n",
        "cleaned_text_ascii = unidecode(cleaned_text)"
      ]
    },
    {
      "cell_type": "markdown",
      "metadata": {
        "id": "-TJGtNtghwki"
      },
      "source": [
        "Another important thing is to know your data and how the model trains its weights.\n",
        "\n",
        "In our case, word2vec (fasttext) processes the text line by line, traversing the line with a defined window to represent the context. However, the Gutenberg War and Peace text is split into lines in a somewhat arbitrary way, so that the words on a particular line may not necesserily belong to the same sentence and thus the context window will erroneously treat them as contextually-dependent.\n",
        "\n",
        "One way to fix it is to tokenize the text into sentences first. Luckily for us, the whole War and Peace text fits into the RAM."
      ]
    },
    {
      "cell_type": "code",
      "execution_count": 403,
      "metadata": {
        "id": "R6joylcPhuxS",
        "colab": {
          "base_uri": "https://localhost:8080/"
        },
        "outputId": "066ac644-2d00-45e7-9ce3-1e235dc92a43"
      },
      "outputs": [
        {
          "output_type": "execute_result",
          "data": {
            "text/plain": [
              "['\"Well, Prince, so Genoa and Lucca are now just family estates of the\\nBuonapartes.',\n",
              " \"But I warn you, if you don't tell me that this means war,\\nif you still try to defend the infamies and horrors perpetrated by that\\nAntichrist--I really believe he is Antichrist--I will have nothing\\nmore to do with you and you are no longer my friend, no longer my\\n'faithful slave,' as you call yourself!\",\n",
              " 'But how do you do?',\n",
              " 'I see I\\nhave frightened you--sit down and tell me all the news.\"',\n",
              " 'It was in July, 1805, and the speaker was the well-known Anna Pavlovna\\nScherer, maid of honor and favorite of the Empress Marya Fedorovna.',\n",
              " 'With these words she greeted Prince Vasili Kuragin, a man of high\\nrank and importance, who was the first to arrive at her reception.',\n",
              " 'Anna\\nPavlovna had had a cough for some days.',\n",
              " 'She was, as she said, suffering\\nfrom la grippe; grippe being then a new word in St. Petersburg, used\\nonly by the elite.',\n",
              " 'All her invitations without exception, written in French, and delivered\\nby a scarlet-liveried footman that morning, ran as follows:\\n\"If you have nothing better to do, Count (or Prince), and if the\\nprospect of spending an evening with a poor invalid is not too terrible,\\nI shall be very charmed to see you tonight between 7 and 10--Annette\\nScherer.\"',\n",
              " '\"Heavens!']"
            ]
          },
          "metadata": {},
          "execution_count": 403
        }
      ],
      "source": [
        "# Split into sentences\n",
        "sentences = nltk.sent_tokenize(cleaned_text_ascii)\n",
        "\n",
        "sentences[:10]"
      ]
    },
    {
      "cell_type": "markdown",
      "metadata": {
        "id": "uvi9Je9ukb5k"
      },
      "source": [
        "As you can see, there are many unwanted characters in each sentence: arbitrary newlines (\\n), double hyphens (--) etc.\n",
        "\n",
        "For the task at hand (learning fasttext embeddings), we might want to preprocess the text i.e. get rid of punctuation and redundant symbols, lowercase each word. We could also apply stemming or lemmatization, but fasttext gives us the freedom not to do so, preserving some morphology-related information."
      ]
    },
    {
      "cell_type": "code",
      "execution_count": 404,
      "metadata": {
        "id": "SAS8gix8MmJx"
      },
      "outputs": [],
      "source": [
        "def clean_wap_sentence(sentence: str) -> str:\n",
        "    \"\"\"\n",
        "    Cleans a sentence by performing the following operations:\n",
        "    1. Replaces newline characters (`\\n`) with a space.\n",
        "    2. Replaces double hyphens (`--`) with a space.\n",
        "    3. Removes all punctuation except for apostrophes.\n",
        "    4. Converts the sentence to lowercase.\n",
        "\n",
        "    Args:\n",
        "        sentence (str): The input sentence to be cleaned.\n",
        "\n",
        "    Returns:\n",
        "        str: The cleaned sentence.\n",
        "    \"\"\"\n",
        "    sentence = sentence.replace('\\n', ' ').replace('--', ' ').\\\n",
        "    replace('.', '').replace('!', '').replace(',', '').replace('?', '').\\\n",
        "    replace('\"', '').replace(':', '').replace(';', '').lower()\n",
        "\n",
        "\n",
        "    return sentence\n"
      ]
    },
    {
      "cell_type": "code",
      "execution_count": 405,
      "metadata": {
        "id": "xFtKcY1FLltn"
      },
      "outputs": [],
      "source": [
        "# Preprocess each sentence\n",
        "processed_sentences = []\n",
        "\n",
        "for sentence in sentences:\n",
        "  processed_sentences.append(clean_wap_sentence(sentence))\n",
        "\n",
        "# Join processed sentences with newlines to match expected gensim format\n",
        "final_text = \"\\n\".join(processed_sentences)\n",
        "\n",
        "with open(wap_cleaned_file_path, 'w') as outfile:\n",
        "    outfile.write(final_text)\n",
        "\n",
        "# Keep sentence count for gensim model parameter setting\n",
        "wap_sentences_count = len(processed_sentences)"
      ]
    },
    {
      "cell_type": "code",
      "execution_count": 406,
      "metadata": {
        "id": "Y4OMLve2Nu29",
        "colab": {
          "base_uri": "https://localhost:8080/"
        },
        "outputId": "d8dcf8f4-4304-4c14-94a3-5786a02f495c"
      },
      "outputs": [
        {
          "output_type": "stream",
          "name": "stdout",
          "text": [
            "well prince so genoa and lucca are now just family estates of the buonapartes\n",
            "but i warn you if you don't tell me that this means war if you still try to defend the infamies and horrors perpetrated by that antichrist i really believe he is antichrist i will have nothing more to do with you and you are no longer my friend no longer my 'faithful slave' as you call yourself\n",
            "but how do you do\n",
            "i see i have frightened you sit down and tell me all the news\n"
          ]
        }
      ],
      "source": [
        "# Take a look at what we obtained so far\n",
        "!sed -n 1,4p war_and_peace_cleaned.txt"
      ]
    },
    {
      "cell_type": "markdown",
      "metadata": {
        "id": "_uH0e8AMmxTM"
      },
      "source": [
        "Now that we have the preprocessed data, let's train our model at last!\n",
        "\n",
        "For this task we will use [Gensim's implementation](https://radimrehurek.com/gensim/models/fasttext.html) of Fasttext. It has a little overhead as compared to the [vanilla implementation](https://fasttext.cc/), but a really nice API which also supports finetuning existing models.\n",
        "\n",
        "\n",
        "**Please read carefully these notes in order to pass the tests:**\n",
        "0. Set the learning rate to 3e-2. Gensim's fasttextwill linearly decrease this value as epochs go on.\n",
        "1. You are free to experiment with the vector size,\n",
        "but know that it will drastically affect the performance.\n",
        "Values below 64 may result in embeddings to struggle to correctly represent the words.\n",
        "Values above 300 will slow you down and will likely not offer any compensation for that.\n",
        "We recommend a value of 100 to safely pass the test as a happy mean\n",
        "2. Be sure to use skip-gram mode. It usually gives a better semantic representation of the learned vectors at the expense of a relatively slow training.\n",
        "3. 5 epochs is likely enough for the amount of data you have, but feel free to experiment.\n",
        "4. Remember to set the seed, even though it will likely not make you model fully determenistic if you use more than one thread.\n",
        "5. Window size is an important parameter. The wider the window, the broader sentence-level context a given embedding captures at the expense of own semantic uniqueness. Feel free to experiment. The window size of 5 will likely be a good starting point to safely pass the assert wall.\n",
        "\n",
        "Note that we do not use any train\\test split. You, the human, is the ultimate referee for this task. If you feel that that the embeddings make sense (and they pass the test), then so be it."
      ]
    },
    {
      "cell_type": "code",
      "execution_count": 407,
      "metadata": {
        "id": "9K63bW7jVlJS"
      },
      "outputs": [],
      "source": [
        "# Use PathLineSentence to stream data from the file\n",
        "wap_sentences = PathLineSentences(wap_cleaned_file_path)\n",
        "\n",
        "# Train the FastText model using Gensim\n",
        "model = FastText(vector_size=128, sg = 1, window=5, seed = seed, alpha=3e-2)\n",
        "model.build_vocab(corpus_iterable=wap_sentences)\n",
        "\n",
        "model.train(corpus_iterable=wap_sentences, total_examples=wap_sentences_count, epochs=5)\n",
        "\n",
        "model.save(\"wap_fasttext_model.bin\")"
      ]
    },
    {
      "cell_type": "markdown",
      "metadata": {
        "id": "Ff7lhpvi82XM"
      },
      "source": [
        "You can play around with the model you trained below."
      ]
    },
    {
      "cell_type": "code",
      "execution_count": 408,
      "metadata": {
        "id": "S8WtJNHJ37je",
        "colab": {
          "base_uri": "https://localhost:8080/"
        },
        "outputId": "e711fc42-3473-400a-bf45-7d561a6394ff"
      },
      "outputs": [
        {
          "output_type": "stream",
          "name": "stdout",
          "text": [
            "('freedom', 0.8887354135513306)\n",
            "('source', 0.8779677152633667)\n",
            "('conquer', 0.8768472075462341)\n",
            "('disgrace', 0.874388575553894)\n",
            "('religion', 0.8737524747848511)\n",
            "('oblige', 0.8737063407897949)\n",
            "('respond', 0.8676757216453552)\n",
            "('fulfillment', 0.8656014800071716)\n",
            "('refusal', 0.8643806576728821)\n",
            "('decision', 0.8641515374183655)\n"
          ]
        }
      ],
      "source": [
        "print(*model.wv.most_similar('peace', topn=10), sep='\\n')"
      ]
    },
    {
      "cell_type": "markdown",
      "metadata": {
        "id": "2x-XkVDyqwpg"
      },
      "source": [
        "Fasttext allows us to reconstruct out-of-vocabulary words using word n-grams..."
      ]
    },
    {
      "cell_type": "code",
      "execution_count": 409,
      "metadata": {
        "id": "dkuCReZxq425",
        "colab": {
          "base_uri": "https://localhost:8080/"
        },
        "outputId": "3c71a3ed-6021-46c1-de2d-4f6d8b8c75eb"
      },
      "outputs": [
        {
          "output_type": "execute_result",
          "data": {
            "text/plain": [
              "False"
            ]
          },
          "metadata": {},
          "execution_count": 409
        }
      ],
      "source": [
        "'computation' in model.wv.key_to_index"
      ]
    },
    {
      "cell_type": "markdown",
      "metadata": {
        "id": "ESLUQDBMrRwr"
      },
      "source": [
        "...even though they may be too far from the learned context."
      ]
    },
    {
      "cell_type": "code",
      "execution_count": 410,
      "metadata": {
        "id": "YBwOjSQZrA5k",
        "colab": {
          "base_uri": "https://localhost:8080/"
        },
        "outputId": "6c3654ae-850b-4f88-f093-54d901d6cc67"
      },
      "outputs": [
        {
          "output_type": "stream",
          "name": "stdout",
          "text": [
            "('consultation', 0.9775198698043823)\n",
            "('subordination', 0.9711268544197083)\n",
            "('deputation', 0.9707898497581482)\n",
            "('combination', 0.9684097170829773)\n",
            "('gravitation', 0.9681679010391235)\n",
            "('manifestation', 0.9658612012863159)\n",
            "('determination', 0.9651428461074829)\n",
            "('temptation', 0.9642015695571899)\n",
            "('participation', 0.9631247520446777)\n",
            "('reputation', 0.9592338800430298)\n"
          ]
        }
      ],
      "source": [
        "print(*model.wv.most_similar('computation', topn=10), sep='\\n')"
      ]
    },
    {
      "cell_type": "code",
      "execution_count": 411,
      "metadata": {
        "id": "wB9bwgA53sFJ",
        "colab": {
          "base_uri": "https://localhost:8080/"
        },
        "outputId": "e1456f06-8231-483a-9e96-a9a038da354c"
      },
      "outputs": [
        {
          "output_type": "stream",
          "name": "stdout",
          "text": [
            "Congrats!\n"
          ]
        }
      ],
      "source": [
        "  # Degugging area\n",
        "model_vocabulary = set(model.wv.key_to_index.keys())\n",
        "most_similar_to_peace = list(zip(*model.wv.most_similar('peace', topn=50)))[0]\n",
        "\n",
        "assert model.vector_size >= 64 and model.vector_size <= 300, 'Please check your embedding size.'\n",
        "assert model.sg == 1, 'Please use skip-gram method for consistency. Also, despite being faster, CBOW usually generates inferior word embeddings for rare words.'\n",
        "assert model.alpha == 3e-2, 'It is expected that you overwrite the default alpha for this task.'\n",
        "assert len(model_vocabulary) > 5500 and len(model_vocabulary) < 7500, 'There is something wrong with your tokenization. Check the pipeline and use a default *ngram=1*'\n",
        "assert 'religion' in most_similar_to_peace, 'Embeddings look odd. Make sure to follow instructions!'\n",
        "\n",
        "print('Congrats!')"
      ]
    },
    {
      "cell_type": "markdown",
      "metadata": {
        "id": "RB4k_ER8XYtJ"
      },
      "source": [
        "# Finetune using quora dataset (3 points)\n",
        "\n",
        "Now that we have embeddings representing the semantic space as was perceived by !Leo Tolstoy, let's move on to more up-to-date representations.\n",
        "\n",
        "One problem is that our model's vocabulary lacks knowledge about modern day words. Even though we can reconstruct said words using fasttext n-grams, they lack contextual meaning.\n",
        "Another problem is that the context in which certain words are used could have changed throughout the years.\n",
        "\n",
        "Hence, our task would be not to overwrite the learned vectors, but to enrich them with some fresh data."
      ]
    },
    {
      "cell_type": "code",
      "execution_count": 412,
      "metadata": {
        "id": "hs7FKYp6Hl4b",
        "colab": {
          "base_uri": "https://localhost:8080/"
        },
        "outputId": "5e913184-d84b-4ac1-9412-539e412b206d"
      },
      "outputs": [
        {
          "output_type": "stream",
          "name": "stdout",
          "text": [
            "--2025-10-01 19:44:14--  https://www.dropbox.com/s/obaitrix9jyu84r/quora.txt?dl=1\n",
            "Resolving www.dropbox.com (www.dropbox.com)... 162.125.65.18, 2620:100:6021:18::a27d:4112\n",
            "Connecting to www.dropbox.com (www.dropbox.com)|162.125.65.18|:443... connected.\n",
            "HTTP request sent, awaiting response... 302 Found\n",
            "Location: https://www.dropbox.com/scl/fi/p0t2dw6oqs6oxpd6zz534/quora.txt?rlkey=bjupppwua4zmd4elz8octecy9&dl=1 [following]\n",
            "--2025-10-01 19:44:14--  https://www.dropbox.com/scl/fi/p0t2dw6oqs6oxpd6zz534/quora.txt?rlkey=bjupppwua4zmd4elz8octecy9&dl=1\n",
            "Reusing existing connection to www.dropbox.com:443.\n",
            "HTTP request sent, awaiting response... 302 Found\n",
            "Location: https://uc8316bbb6cc6e70639bed95d86c.dl.dropboxusercontent.com/cd/0/inline/CybTHOjDSw-Z2ib1sVwTBqhRc9roaL419b2WHk7_44kpnxw4Ezda2j95ZgYN8H_IBLrEjAO7fLE8y9LbsI1rXvfqsNoEtizqSTUnkQnxUITfrF7o7cL0lsOY_1uIQGCm70o/file?dl=1# [following]\n",
            "--2025-10-01 19:44:15--  https://uc8316bbb6cc6e70639bed95d86c.dl.dropboxusercontent.com/cd/0/inline/CybTHOjDSw-Z2ib1sVwTBqhRc9roaL419b2WHk7_44kpnxw4Ezda2j95ZgYN8H_IBLrEjAO7fLE8y9LbsI1rXvfqsNoEtizqSTUnkQnxUITfrF7o7cL0lsOY_1uIQGCm70o/file?dl=1\n",
            "Resolving uc8316bbb6cc6e70639bed95d86c.dl.dropboxusercontent.com (uc8316bbb6cc6e70639bed95d86c.dl.dropboxusercontent.com)... 162.125.65.15, 2620:100:6021:15::a27d:410f\n",
            "Connecting to uc8316bbb6cc6e70639bed95d86c.dl.dropboxusercontent.com (uc8316bbb6cc6e70639bed95d86c.dl.dropboxusercontent.com)|162.125.65.15|:443... connected.\n",
            "HTTP request sent, awaiting response... 200 OK\n",
            "Length: 33813903 (32M) [application/binary]\n",
            "Saving to: ‘./quora_raw.txt’\n",
            "\n",
            "./quora_raw.txt     100%[===================>]  32.25M  25.1MB/s    in 1.3s    \n",
            "\n",
            "2025-10-01 19:44:16 (25.1 MB/s) - ‘./quora_raw.txt’ saved [33813903/33813903]\n",
            "\n"
          ]
        }
      ],
      "source": [
        "# download the data\n",
        "!wget https://www.dropbox.com/s/obaitrix9jyu84r/quora.txt?dl=1 -O ./quora_raw.txt\n",
        "# alternative download link: https://yadi.sk/i/BPQrUu1NaTduEw"
      ]
    },
    {
      "cell_type": "code",
      "execution_count": 413,
      "metadata": {
        "id": "uBNa4AViHuxO",
        "colab": {
          "base_uri": "https://localhost:8080/"
        },
        "outputId": "aa36f4bc-a715-40a9-ce9b-61a689085cbc"
      },
      "outputs": [
        {
          "output_type": "stream",
          "name": "stdout",
          "text": [
            "Can I get back with my ex even though she is pregnant with another guy's baby?\n",
            "What are some ways to overcome a fast food addiction?\n",
            "Who were the great Chinese soldiers and leaders who fought in WW2?\n",
            "What are ZIP codes in the Bay Area?\n",
            "Why was George RR Martin critical of JK Rowling after losing the Hugo award?\n"
          ]
        }
      ],
      "source": [
        "# Glimpse at the quora dataset\n",
        "!sed -n 1,5p quora_raw.txt"
      ]
    },
    {
      "cell_type": "markdown",
      "metadata": {
        "id": "epNDC2bgsCqR"
      },
      "source": [
        "As before, we need to standardize the data for training.\n",
        "\n",
        "Luckily for us, each line already consists of a complete sentence (even better, in ASCII!)."
      ]
    },
    {
      "cell_type": "code",
      "execution_count": 414,
      "metadata": {
        "id": "EhGLucM6Hzp_"
      },
      "outputs": [],
      "source": [
        "# Define a function to preprocess a single line\n",
        "def preprocess_line(line: str) -> str:\n",
        "    \"\"\"\n",
        "    Preprocesses a single line of text by:\n",
        "    1. Removing all punctuation except apostrophes.\n",
        "    2. Converting the text to lowercase.\n",
        "\n",
        "    Args:\n",
        "        line (str): The input line of text to preprocess.\n",
        "\n",
        "    Returns:\n",
        "        str: The preprocessed line of text.\n",
        "    \"\"\"\n",
        "\n",
        "    line = line.replace('.', '').replace('!', '').replace(',', '').replace('?', '').\\\n",
        "    replace('\"', '').replace(':', '').replace(';', '').lower()\n",
        "\n",
        "\n",
        "\n",
        "    return line\n",
        "\n",
        "\n",
        "def preprocess_file(input_file_path: str, output_file_path: str) -> int:\n",
        "    \"\"\"\n",
        "    Reads a text file line by line, preprocesses each line,\n",
        "    and writes the preprocessed lines to a new file.\n",
        "\n",
        "    Args:\n",
        "        input_file_path (str): Path to the input text file.\n",
        "        output_file_path (str): Path to the output text file where preprocessed lines will be saved.\n",
        "\n",
        "    Returns:\n",
        "        int: The total number of lines processed in the input file.\n",
        "    \"\"\"\n",
        "    lines_written = 0\n",
        "\n",
        "    with open(input_file_path, 'r', encoding='utf-8') as infile, \\\n",
        "         open(output_file_path, 'w', encoding='utf-8') as outfile:\n",
        "\n",
        "        for line in infile:\n",
        "            # Preprocess the line\n",
        "            processed_line = preprocess_line(line)\n",
        "\n",
        "            # Only write non-empty lines\n",
        "            if processed_line:\n",
        "                outfile.write(processed_line + '\\n')\n",
        "                lines_written += 1\n",
        "            # else:\n",
        "            #     # Count empty lines as processed but don't write them\n",
        "            #     lines_written += 1\n",
        "\n",
        "    if lines_written > 0:\n",
        "        with open(output_file_path, 'rb+') as f:\n",
        "            f.seek(-1, 2)\n",
        "            if f.read(1) == b'\\n':\n",
        "                f.truncate()\n",
        "\n",
        "    return lines_written\n",
        "\n"
      ]
    },
    {
      "cell_type": "markdown",
      "metadata": {
        "id": "sDq2kwWvx6V1"
      },
      "source": [
        "The catch here is that we continue trainining the model using a larger dataset with a pretty different thematics, so in order not to completely overwrite existing War and Peace \"vibe\" it may be a good idea to proceed at where we left off previously (learning rate-wise) and/or not to be too crazy about the number of epochs.  "
      ]
    },
    {
      "cell_type": "code",
      "execution_count": 415,
      "metadata": {
        "id": "s848tJDOWw6m"
      },
      "outputs": [],
      "source": [
        "# As before, use gensim's tools to iterate over the lines\n",
        "quora_sentences = PathLineSentences(quora_processed_file_path)\n",
        "\n",
        "# Load the model in order to finetune it\n",
        "finetuned_model = FastText.load(\"wap_fasttext_model.bin\")\n",
        "\n",
        "# Update existing vocabulary with the new sentences\n",
        "finetuned_model.build_vocab(quora_sentences, update=True)  # Update the vocabulary\n",
        "\n",
        "# Continue training the model on the new data\n",
        "# Remember to correctly pass the parameters\n",
        "finetuned_model.train(quora_sentences, total_examples=quora_sentences_count, epochs=3, start_alpha=0.0001)\n",
        "\n",
        "finetuned_model.save(\"wap_quora_fasttext_model.bin\")\n"
      ]
    },
    {
      "cell_type": "code",
      "execution_count": 416,
      "metadata": {
        "id": "t2fb7euXJe-u",
        "colab": {
          "base_uri": "https://localhost:8080/"
        },
        "outputId": "99a72206-2e04-46f6-b9f0-80e3800e0f43"
      },
      "outputs": [
        {
          "output_type": "stream",
          "name": "stdout",
          "text": [
            "Number of new words added: 24847\n",
            "New words: ['psr', 'confidentiality', '03', 'provides', '18-55', 'patrick', 'interns', 'emulators', \"we'd\", 'olden']\n"
          ]
        }
      ],
      "source": [
        "finetuned_model_vocabulary = set(finetuned_model.wv.key_to_index.keys())\n",
        "new_words = finetuned_model_vocabulary - model_vocabulary\n",
        "\n",
        "print(\"Number of new words added:\", len(new_words))\n",
        "print(\"New words:\", list(new_words)[10:20])"
      ]
    },
    {
      "cell_type": "code",
      "execution_count": 417,
      "metadata": {
        "id": "Lryyye8IG2X6"
      },
      "outputs": [],
      "source": [
        "def print_comparison(\n",
        "    model1: Union[FastText, None],\n",
        "    model2: Union[FastText, None],\n",
        "    word: str = 'peace',\n",
        "    top_n: int = 10\n",
        ") -> None:\n",
        "    \"\"\"\n",
        "    A utility function that compares the top-N most similar words for a given query word across two FastText models.\n",
        "    Prints the comparison in a tabular format to visually assess changes after finetuning.\n",
        "\n",
        "    Args:\n",
        "        model1 (FastText | None): The first FastText model (original or pre-finetuning).\n",
        "        model2 (FastText | None): The second FastText model (post-finetuning).\n",
        "        word (str, optional): The word for which similar words are retrieved.\n",
        "        top_n (int, optional): The number of top similar words to compare.\n",
        "\n",
        "    Returns:\n",
        "        None: Prints results directly to the console.\n",
        "    \"\"\"\n",
        "    q0 = model1.wv.most_similar(word, topn=top_n)\n",
        "    q1 = model2.wv.most_similar(word, topn=top_n)\n",
        "\n",
        "    # Print the header\n",
        "    print(f'Query: {word}\\n')\n",
        "    print(f\"{'pos':<5} {'model_1':<15} {'score_1':<10} {'model_2':<15} {'score_2':<10}\")\n",
        "    print(\"-\" * (5 + 15 + 10 + 15 + 10))\n",
        "\n",
        "    # Print each entry up to top_n\n",
        "    for pos, (word0, score0), (word1, score1) in zip(range(top_n), q0, q1):\n",
        "        # Format the scores to 4 decimal places\n",
        "        print(f\"{pos:<5} {word0:<15} {score0:.4f}     {word1:<15} {score1:.4f}\")\n"
      ]
    },
    {
      "cell_type": "code",
      "execution_count": 418,
      "metadata": {
        "id": "-EpYIYHqIY0C",
        "colab": {
          "base_uri": "https://localhost:8080/"
        },
        "outputId": "fc135709-6bb4-482b-a1ed-77d84b6170f2"
      },
      "outputs": [
        {
          "output_type": "stream",
          "name": "stdout",
          "text": [
            "Query: war\n",
            "\n",
            "pos   model_1         score_1    model_2         score_2   \n",
            "-------------------------------------------------------\n",
            "0     considerable    0.8334     war)            0.9286\n",
            "1     consideration   0.8276     warg            0.9173\n",
            "2     revolution      0.8213     communication   0.9142\n",
            "3     communication   0.8202     consideration   0.9138\n",
            "4     vital           0.8167     revolution      0.9131\n",
            "5     dissolution     0.8090     actuarial       0.9096\n",
            "6     conclusion      0.8089     microevolution  0.9089\n",
            "7     discussion      0.8081     corporation     0.9078\n",
            "8     description     0.8064     telecommunication 0.9074\n",
            "9     conduct         0.8043     adulteration    0.9072\n"
          ]
        }
      ],
      "source": [
        "# Call the function to display results\n",
        "print_comparison(model, finetuned_model, word='war', top_n=10)"
      ]
    },
    {
      "cell_type": "code",
      "execution_count": 419,
      "metadata": {
        "id": "ClPM4Nx-FENm",
        "colab": {
          "base_uri": "https://localhost:8080/"
        },
        "outputId": "0128e7b6-bfb3-4121-b118-65af01f2cfe9"
      },
      "outputs": [
        {
          "output_type": "stream",
          "name": "stdout",
          "text": [
            "Gratz!\n"
          ]
        }
      ],
      "source": [
        "# The usual assert wall for debugging and testing\n",
        "assert finetuned_model.alpha <= model.min_alpha, 'setting a learning rate too high will result in model forgetting previous information, especially when finetuning on a larger dataset!'\n",
        "assert len(new_words) > 20_000 and len(new_words) < 30_000, 'There is likely something wrong with your preprocessing pipeline. There must be more new words after finetuning!'\n",
        "assert 'religion' in list(zip(*finetuned_model.wv.most_similar('peace', topn=50)))[0], 'Embeddings changed dramatically! Consider setting lower start_apha and fewer epochs.'\n",
        "assert 'evolution' in list(zip(*finetuned_model.wv.most_similar('war', topn=50)))[0], 'Embeddings didn\\'t change as was expected! Consider setting higher start_apha and more epochs, check *total_examples* param.'\n",
        "\n",
        "print('Gratz!')"
      ]
    },
    {
      "cell_type": "markdown",
      "metadata": {
        "id": "GNNdvFcQNRIm"
      },
      "source": [
        "In practice, you may want to experiment with different fine-tuning strategies e.g. varying the alpha parameter, training for more epochs, or even trying to \"freeze\" some embeddings while updating only certain parts of the vocabulary."
      ]
    },
    {
      "cell_type": "markdown",
      "metadata": {
        "id": "dMY77szU6G6J"
      },
      "source": [
        "# Implement a way to search similar quora questions given a new query (3 points)"
      ]
    },
    {
      "cell_type": "markdown",
      "metadata": {
        "id": "fu8PJZxk6OtW"
      },
      "source": [
        "## Straightforward numpy array-based search"
      ]
    },
    {
      "cell_type": "markdown",
      "metadata": {
        "id": "TmBNaucPb43q"
      },
      "source": [
        "Next, if we are to do a semantic search engine, it is required to be able to match a new sentence to a single vector. The easiest way to do so is to average individual word-level embeddings.\n",
        "\n",
        "Alternatively, you may try out pooling (min, max, mean, softmax) strategies and [TF-IDF](https://www.geeksforgeeks.org/understanding-tf-idf-term-frequency-inverse-document-frequency/) . TF-IDF approach requires to precalculate IDF scores across existing corpus and multiply by a TF for a given word in a given sentence.\n",
        "\n",
        "Also, it is expected that you will use cosine similarity as a vector distance metric later, so it might be a good idea to normalize all the vectors before putting them into a database since it will effectively turn a cosine similarity calculation into taking a dot product, which will speed the things up:\n",
        "$$\n",
        "cos(\\phi) = \\frac{<u, v>}{|u||v|}.\n",
        "$$"
      ]
    },
    {
      "cell_type": "code",
      "execution_count": 420,
      "metadata": {
        "id": "kohkQMO7T2O6"
      },
      "outputs": [],
      "source": [
        "def normalize_vector(embedding: np.ndarray) -> np.ndarray:\n",
        "    \"\"\"\n",
        "    Normalizes a given vector to have unit length.\n",
        "\n",
        "    Args:\n",
        "        embedding (np.ndarray): A NumPy array representing the vector to normalize.\n",
        "\n",
        "    Returns:\n",
        "        np.ndarray: A normalized vector with unit length.\n",
        "    \"\"\"\n",
        "    norm = np.linalg.norm(embedding)\n",
        "\n",
        "    return embedding / norm\n",
        "\n",
        "\n",
        "def get_text_embedding(text: str, model: FastText) -> np.ndarray:\n",
        "    \"\"\"\n",
        "    Computes the embedding for a given text using a pre-trained FastText model.\n",
        "    The embedding is the mean of word embeddings for words in the text, normalized to unit length.\n",
        "\n",
        "    Args:\n",
        "        text (str): The input text to embed.\n",
        "        model (FastText): The FastText model to use for generating embeddings.\n",
        "\n",
        "    Returns:\n",
        "        np.ndarray: The normalized embedding for the input text.\n",
        "                    If no valid words are found in the text, returns a zero vector.\n",
        "    \"\"\"\n",
        "\n",
        "    vector_dim = model.vector_size\n",
        "    words = preprocess_line(text).split()\n",
        "    word_vectors = []\n",
        "\n",
        "    for word in words:\n",
        "        if word in model.wv:\n",
        "            word_vectors.append(model.wv[word])\n",
        "\n",
        "    if not word_vectors:\n",
        "        return np.zeros(vector_dim, dtype=np.float32)\n",
        "\n",
        "    mean_vector = np.mean(word_vectors, axis=0)\n",
        "    normalized_embedding = normalize_vector(mean_vector)\n",
        "\n",
        "    return normalized_embedding\n",
        "\n"
      ]
    },
    {
      "cell_type": "code",
      "execution_count": 421,
      "metadata": {
        "id": "bxgO1OC6g76i",
        "colab": {
          "base_uri": "https://localhost:8080/"
        },
        "outputId": "f0073409-d521-4885-90dc-c7f154dfcd4c"
      },
      "outputs": [
        {
          "output_type": "stream",
          "name": "stdout",
          "text": [
            "Good job!\n"
          ]
        }
      ],
      "source": [
        "# Debugging and testing area\n",
        "question = \"Love peace\"\n",
        "text_embedding = get_text_embedding(question, finetuned_model)\n",
        "dummy_word_embedding = (finetuned_model.wv['love'] + finetuned_model.wv['peace']) / 2\n",
        "\n",
        "assert text_embedding.shape[0] == finetuned_model.wv.vector_size, \"Check axis along which values are aggregated\"\n",
        "assert all(normalize_vector(dummy_word_embedding) == text_embedding), \"You need to return a normalized mean embedding for now, nothing fancy!\"\n",
        "\n",
        "print('Good job!')"
      ]
    },
    {
      "cell_type": "markdown",
      "metadata": {
        "id": "feR2nwsPx_Hj"
      },
      "source": [
        "Finally, let's implement a similar sentence search.\n",
        "\n",
        "Your task will be to match each quora question to an embedding and store these vectors in a way easy enough to conduct a search operation.\n",
        "\n",
        "In order this to look like a search engine, new user input should also be converted to an embedding in order to perform, well, a search in our existing embedding storage."
      ]
    },
    {
      "cell_type": "markdown",
      "metadata": {
        "id": "SzBoJNuFzjuA"
      },
      "source": [
        "First, let's do it in a straightforward way: create a numpy array where existing quora questions embeddings will be stored.\n",
        "\n",
        "Be sure to apply the same preprocessing we used during the model training!"
      ]
    },
    {
      "cell_type": "code",
      "execution_count": 422,
      "metadata": {
        "id": "zOg0BKJOSL1m"
      },
      "outputs": [],
      "source": [
        "def create_embeddings_storage(quora_file: str, model: FastText) -> np.ndarray:\n",
        "    \"\"\"\n",
        "    Creates a NumPy array of normalized embeddings for all questions in a dataset.\n",
        "\n",
        "    Each line in the input file represents a question, which is preprocessed using\n",
        "    'preprocess_line' function and embedded using 'get_text_embedding' function.\n",
        "\n",
        "    Args:\n",
        "        quora_file (str): Path to the file containing the preprocessed questions, one per line.\n",
        "        model (FastText): The FastText model used to generate embeddings.\n",
        "\n",
        "    Returns:\n",
        "        np.ndarray: A 2D NumPy array where each row corresponds to the normalized embedding\n",
        "                    of a question in the dataset. Shape: (num_questions, embedding_dim).\n",
        "    \"\"\"\n",
        "    embeddings_list: List[np.ndarray] = []\n",
        "\n",
        "    with open(quora_file, 'r', encoding='utf-8') as file:\n",
        "        lines = file.readlines()\n",
        "\n",
        "    for line in lines:\n",
        "        line = line.rstrip('\\r\\n')\n",
        "        embedding = get_text_embedding(line, model)\n",
        "        embeddings_list.append(embedding)\n",
        "\n",
        "    # Convert the list of embeddings to a NumPy array\n",
        "    return np.array(embeddings_list)"
      ]
    },
    {
      "cell_type": "code",
      "execution_count": 423,
      "metadata": {
        "id": "pNR8KYpJI4V5"
      },
      "outputs": [],
      "source": [
        "# Create a storage array for normalized embeddings\n",
        "embeddings_storage_np = create_embeddings_storage(\"quora_processed.txt\", finetuned_model)"
      ]
    },
    {
      "cell_type": "code",
      "execution_count": 424,
      "metadata": {
        "id": "uQwHa9OWAPkF",
        "colab": {
          "base_uri": "https://localhost:8080/"
        },
        "outputId": "f60dc9da-b298-475a-e20b-3bc62c6228dc"
      },
      "outputs": [
        {
          "output_type": "execute_result",
          "data": {
            "text/plain": [
              "(537272, 128)"
            ]
          },
          "metadata": {},
          "execution_count": 424
        }
      ],
      "source": [
        "embeddings_storage_np.shape"
      ]
    },
    {
      "cell_type": "code",
      "execution_count": 425,
      "metadata": {
        "id": "SJlU0KJqWgr1",
        "colab": {
          "base_uri": "https://localhost:8080/"
        },
        "outputId": "f8a71ad3-91aa-4f9e-b6ba-1538f869653d"
      },
      "outputs": [
        {
          "output_type": "stream",
          "name": "stdout",
          "text": [
            "Looking good so far!\n"
          ]
        }
      ],
      "source": [
        "with open(quora_processed_file_path, 'r') as f:\n",
        "    for line in f:\n",
        "        test_embedding = get_text_embedding(line, finetuned_model)\n",
        "        break\n",
        "\n",
        "assert embeddings_storage_np.shape == (quora_sentences_count, finetuned_model.vector_size), \"The vector storage must be of size (num_quora_sentences, embedding_dim)\"\n",
        "assert embeddings_storage_np[0].mean() == test_embedding.mean(), 'Embedding of the first quora question does not correspond to the first enty in the storage!'\n",
        "print('Looking good so far!')"
      ]
    },
    {
      "cell_type": "code",
      "execution_count": 426,
      "metadata": {
        "id": "7aXP6AQUS2Gg"
      },
      "outputs": [],
      "source": [
        "def find_closest_match_np(query: str, model, embeddings_storage: np.ndarray, k: int = 1) -> Tuple[List[int], List[float]]:\n",
        "    \"\"\"\n",
        "    Finds the closest match(es) to a new question in the database using cosine similarity.\n",
        "\n",
        "    This function preprocesses the input question, calculates its embedding, and then computes\n",
        "    cosine similarities between the new question's embedding and a pre-existing database of embeddings.\n",
        "    It returns the indices of the top-k most similar questions along with their similarity scores.\n",
        "\n",
        "    Parameters:\n",
        "        query (str): The input question to be compared.\n",
        "        model: The trained FastText model used to generate word embeddings.\n",
        "        embeddings_storage (np.ndarray): A numpy array containing the precomputed and normalized embeddings of all questions in the database.\n",
        "        k (int, optional): The number of closest matches to return. Defaults to 1.\n",
        "\n",
        "    Returns:\n",
        "        Tuple[List[int], List[float]]:\n",
        "            - List[int]: A list of indices of the top-k most similar questions in the database.\n",
        "            - List[float]: A list of similarity scores corresponding to these top-k matches.\n",
        "    \"\"\"\n",
        "\n",
        "    # Preprocess the query and embed the question\n",
        "    query_embedding = get_text_embedding(query, model)\n",
        "\n",
        "    # Compute cosine similarity\n",
        "    # Dot product if the vectors are normalized embeddings\n",
        "    # You might want to look up np.dot\n",
        "    similarities = np.dot(embeddings_storage, query_embedding)\n",
        "\n",
        "    # Get the indices of the top-k most similar questions\n",
        "    # You might want to look up np.argsort\n",
        "    top_k_indices = np.argsort(similarities)[-k:][::-1]\n",
        "    top_k_similarities = similarities[top_k_indices].tolist()\n",
        "    top_k_indices = top_k_indices.tolist()\n",
        "\n",
        "    return top_k_indices, top_k_similarities\n"
      ]
    },
    {
      "cell_type": "markdown",
      "metadata": {
        "id": "wv_9fI1KaKH_"
      },
      "source": [
        "For now, we will store all the quora questions in RAM using a python list.\n",
        "\n",
        "In practice, you would consider a separate database with a retrieval by index done in constant time."
      ]
    },
    {
      "cell_type": "code",
      "execution_count": 427,
      "metadata": {
        "id": "zBgHNHsEZpQW",
        "colab": {
          "base_uri": "https://localhost:8080/"
        },
        "outputId": "64af4e44-f067-45bb-b44e-b359c0f7d4dd"
      },
      "outputs": [
        {
          "output_type": "stream",
          "name": "stdout",
          "text": [
            "Total questions processed: 537272\n"
          ]
        }
      ],
      "source": [
        "# Store original questions for visual testing\n",
        "quora_questions_list = []\n",
        "with open(quora_raw_file_path, 'r') as file:\n",
        "    for line in file:\n",
        "        quora_questions_list.append(line.strip())\n",
        "\n",
        "print(f\"Total questions processed: {len(quora_questions_list)}\")"
      ]
    },
    {
      "cell_type": "code",
      "execution_count": 428,
      "metadata": {
        "id": "zjL1Jv_LdmfU"
      },
      "outputs": [],
      "source": [
        "def fetch_and_display_closest_match(query_function: Callable[..., Tuple[List[int], List[float]]], **kwargs) -> Tuple[List[int], List[float]]:\n",
        "    \"\"\"\n",
        "    A utility function to fetch and display the closest matching questions\n",
        "    from the Quora dataset for a given query.\n",
        "\n",
        "    This function takes a query, uses the provided query function to retrieve\n",
        "    the top-k most similar questions, and prints them along with their similarity scores.\n",
        "\n",
        "    Args:\n",
        "        query_function (Callable): A function that takes query-related parameters and returns\n",
        "                                    the indices of the top-k most similar questions and their similarity scores.\n",
        "                                    It should return a tuple (List[int], List[float]).\n",
        "        **kwargs: Additional arguments to be passed to the query_function, including the query text.\n",
        "\n",
        "    Returns:\n",
        "        Tuple[List[int], List[float]]: A tuple containing:\n",
        "            - A list of indices corresponding to the top-k most similar questions in the dataset.\n",
        "            - A list of similarity scores for each of these questions.\n",
        "    \"\"\"\n",
        "\n",
        "    # Retrieve the top-k indices and their similarity scores from the query function\n",
        "    top_k_indices, top_k_similarities = query_function(**kwargs)\n",
        "\n",
        "    # Fetch the actual questions based on the retrieved indices\n",
        "    top_k_questions = [quora_questions_list[i] for i in top_k_indices]\n",
        "\n",
        "    # Print the query and the top-k results with their similarity scores\n",
        "    print(f\"Query: {kwargs['query']}\")\n",
        "    print(\"\\nTop Matches:\")\n",
        "    for i, (question, similarity) in enumerate(zip(top_k_questions, top_k_similarities), 1):\n",
        "        print(f\"{i}. {question} (Similarity: {similarity:.4f})\")\n",
        "\n",
        "    return top_k_indices, top_k_similarities\n"
      ]
    },
    {
      "cell_type": "code",
      "execution_count": 429,
      "metadata": {
        "id": "DmSVUzWzam6O",
        "colab": {
          "base_uri": "https://localhost:8080/"
        },
        "outputId": "466668eb-1e2e-46da-a0eb-0ac1eb0d7aa5"
      },
      "outputs": [
        {
          "output_type": "stream",
          "name": "stdout",
          "text": [
            "Query: How can I find inner peace?\n",
            "\n",
            "Top Matches:\n",
            "1. How can I find a career mentor? (Similarity: 0.9930)\n",
            "2. How can I create inner peace? (Similarity: 0.9929)\n",
            "3. How can I find a successful mentor? (Similarity: 0.9926)\n",
            "4. How can I find passion? (Similarity: 0.9925)\n",
            "5. How can I find a programmer mentor? (Similarity: 0.9919)\n",
            "6. How can I find inspiration? (Similarity: 0.9910)\n",
            "7. How can I find a startup mentor? (Similarity: 0.9902)\n",
            "8. How can I find app developers? (Similarity: 0.9900)\n",
            "9. How can I find a JavaScript programmer mentor? (Similarity: 0.9900)\n",
            "10. How can I find a perfect co-founder? (Similarity: 0.9899)\n"
          ]
        }
      ],
      "source": [
        "# testing area\n",
        "new_question = \"How can I find inner peace?\"\n",
        "\n",
        "top_k_indices, top_k_similarities = fetch_and_display_closest_match(query_function=find_closest_match_np,\n",
        "                                                                    query=new_question, model=finetuned_model,\n",
        "                                                                    embeddings_storage=embeddings_storage_np,\n",
        "                                                                    k=10)\n",
        "\n",
        "assert 446084 in top_k_indices, 'Your embeddings look odd. = ('"
      ]
    },
    {
      "cell_type": "markdown",
      "metadata": {
        "id": "HjtzTuA4gnXN"
      },
      "source": [
        "Please, feel free to play with your new search engine!"
      ]
    },
    {
      "cell_type": "code",
      "execution_count": 430,
      "metadata": {
        "id": "UTP7pViAgxBk",
        "colab": {
          "base_uri": "https://localhost:8080/"
        },
        "outputId": "d3c792e0-cb88-4321-c7b0-e14efcc0e4b7"
      },
      "outputs": [
        {
          "output_type": "stream",
          "name": "stdout",
          "text": [
            "Query: What is the future of artificial intelligence?\n",
            "\n",
            "Top Matches:\n",
            "1. What is the future of artificial intelligence? (Similarity: 1.0000)\n",
            "2. What is the scope of Artificial Intelligence? (Similarity: 0.9973)\n",
            "3. What is the future of Chinese economy? (Similarity: 0.9972)\n",
            "4. What is the future of Pharmaceutical industry? (Similarity: 0.9971)\n",
            "5. What is the future of Social Media? (Similarity: 0.9970)\n",
            "6. What is the future of internet piracy? (Similarity: 0.9968)\n",
            "7. What is the relative density of oil? (Similarity: 0.9968)\n",
            "8. What is the future of Indonesia's economy? (Similarity: 0.9967)\n",
            "9. What is the future of virtual reality? (Similarity: 0.9967)\n",
            "10. What is the future of electrical grid? (Similarity: 0.9965)\n"
          ]
        }
      ],
      "source": [
        "new_question = \"What is the future of artificial intelligence?\"\n",
        "\n",
        "_, _ = fetch_and_display_closest_match(query_function=find_closest_match_np,\n",
        "                                       query=new_question, model=finetuned_model,\n",
        "                                       embeddings_storage=embeddings_storage_np,\n",
        "                                       k=10)\n"
      ]
    },
    {
      "cell_type": "code",
      "execution_count": 431,
      "metadata": {
        "id": "RuW5VPgvgOcM",
        "colab": {
          "base_uri": "https://localhost:8080/"
        },
        "outputId": "82d981ab-9c6e-409d-e811-dfc9166195af"
      },
      "outputs": [
        {
          "output_type": "stream",
          "name": "stdout",
          "text": [
            "Query: How many games did you play?\n",
            "\n",
            "Top Matches:\n",
            "1. How many kids did you want/have? (Similarity: 0.9925)\n",
            "2. How many hours do you work daily? (Similarity: 0.9873)\n",
            "3. How many questions did you attempt and how many marks do you expect in KVPY SA 2016? (Similarity: 0.9854)\n",
            "4. How did you delete so many emails at once? (Similarity: 0.9849)\n",
            "5. How do you multiply three matrices? (Similarity: 0.9842)\n",
            "6. How many calories do you burn when you play badminton? (Similarity: 0.9835)\n",
            "7. How did you start playing video games? (Similarity: 0.9833)\n",
            "8. How many calories do you burn cycling? (Similarity: 0.9832)\n",
            "9. How many calories do you eat a day? (Similarity: 0.9828)\n",
            "10. How did they know how many people have died in the Twin Towers? (Similarity: 0.9826)\n",
            "11. How many languages can you speak and why did you learn them? (Similarity: 0.9825)\n",
            "12. How many fruits do you eat a day and why? (Similarity: 0.9822)\n",
            "13. How many calories do you burn per kilometre walked? (Similarity: 0.9821)\n",
            "14. How many languages do you know? (Similarity: 0.9816)\n",
            "15. How many hours do you work, on average? (Similarity: 0.9813)\n",
            "16. How many roles did Samuel L Jackson play? (Similarity: 0.9811)\n",
            "17. How many people work at Yelp? How does Yelp manage their locales? (Similarity: 0.9810)\n",
            "18. How do you evade bounty hunters? (Similarity: 0.9809)\n",
            "19. How many swipes of deodorant do you use? (Similarity: 0.9809)\n",
            "20. How many firefighters died in 9/11 and how did they die? (Similarity: 0.9807)\n"
          ]
        }
      ],
      "source": [
        "new_question = \"How many games did you play?\"\n",
        "\n",
        "_, _ = fetch_and_display_closest_match(query_function=find_closest_match_np,\n",
        "                                       query=new_question, model=finetuned_model,\n",
        "                                       embeddings_storage=embeddings_storage_np,\n",
        "                                       k=20)"
      ]
    },
    {
      "cell_type": "code",
      "execution_count": 432,
      "metadata": {
        "id": "72lRXN_Hcd7W",
        "colab": {
          "base_uri": "https://localhost:8080/"
        },
        "outputId": "e976be56-f94c-4292-af1c-6d9526914336"
      },
      "outputs": [
        {
          "output_type": "stream",
          "name": "stdout",
          "text": [
            "Time elapsed: 14.9576 seconds.\n",
            "Average time: 0.1496 seconds.\n"
          ]
        }
      ],
      "source": [
        "import time\n",
        "\n",
        "iterations = 100\n",
        "\n",
        "start_time = time.time()\n",
        "\n",
        "for _ in range(iterations):\n",
        "    _, _ = find_closest_match_np('hello there', finetuned_model, embeddings_storage_np, k=10)\n",
        "\n",
        "time_elapsed = time.time() - start_time\n",
        "average_time = time_elapsed / iterations\n",
        "\n",
        "print(f'Time elapsed: {time_elapsed:.4f} seconds.')\n",
        "print(f'Average time: {average_time:.4f} seconds.')"
      ]
    },
    {
      "cell_type": "markdown",
      "metadata": {
        "id": "chneE_4sjlJk"
      },
      "source": [
        "Please note that in practice frequent queries will be cached."
      ]
    },
    {
      "cell_type": "markdown",
      "metadata": {
        "id": "yxd0oibM62YF"
      },
      "source": [
        "# Vector database search"
      ]
    },
    {
      "cell_type": "markdown",
      "metadata": {
        "id": "RgQd-D0dKhUo"
      },
      "source": [
        "However, the main concern is that often your data will be too large to fit into RAM, let alone VRAM, so an option better than numpy array search is needed. Also, we can not afford to spend O(n) search time for each request.\n",
        "\n",
        "Vector databases i.e. databases specifically designed to store vectors and conduct fast retrieval operations solve the speed problem at the expense of having to keep the storage in RAM. In practice, a collections of machines (shards) may host different chunks of data in an interconnected way.\n",
        "\n",
        "Below is an already implemented way of building an embedding storage. You may want to look it through carefully.\n",
        "\n",
        "You can read more about [FAISS](https://faiss.ai/index.html) library and [HNSW](https://arxiv.org/abs/1603.09320), which is, in short, a k-nearest neighbors search on steroids."
      ]
    },
    {
      "cell_type": "code",
      "execution_count": 433,
      "metadata": {
        "id": "JBw4-UpywHUS"
      },
      "outputs": [],
      "source": [
        "def build_faiss_hnsw_index(dimension: int, ef_construction: int = 200, M: int = 32) -> faiss.IndexHNSWFlat:\n",
        "    \"\"\"\n",
        "    Builds a FAISS HNSW index for cosine similarity.\n",
        "\n",
        "    This function initializes a HNSW (Hierarchical Navigable Small World) index for efficient approximate nearest neighbor search\n",
        "    based on cosine similarity, using the FastText model's normalized embeddings.\n",
        "\n",
        "    Parameters:\n",
        "        dimension (int): Dimensionality of the embeddings (size of each vector).\n",
        "        ef_construction (int, optional): Trade-off parameter between index construction speed and accuracy. Default is 200.\n",
        "        M (int, optional): Number of neighbors in the graph, controlling the memory and accuracy tradeoff. Default is 32.\n",
        "\n",
        "    Returns:\n",
        "        index (faiss.IndexHNSWFlat): Initialized FAISS HNSW index.\n",
        "    \"\"\"\n",
        "    index = faiss.IndexHNSWFlat(dimension, M)  # HNSW index\n",
        "    index.hnsw.efConstruction = ef_construction  # Construction accuracy\n",
        "    index.metric_type = faiss.METRIC_INNER_PRODUCT  # Cosine similarity via normalized vectors\n",
        "    return index\n",
        "\n",
        "\n",
        "def populate_faiss_index(index: faiss.Index, model, dataset_path: str, batch_size: int = 10000):\n",
        "    \"\"\"\n",
        "    Populates the FAISS HNSW index with normalized embeddings from the dataset.\n",
        "\n",
        "    This function reads the dataset line by line, preprocesses each question, computes its embedding,\n",
        "    and adds the embeddings to the FAISS index in batches.\n",
        "\n",
        "    Parameters:\n",
        "        index (faiss.Index): FAISS index to populate.\n",
        "        model: Trained FastText model used to generate embeddings.\n",
        "        dataset_path (str): Path to the dataset file (one question per line).\n",
        "        batch_size (int, optional): Number of questions to process at a time. Default is 10000.\n",
        "    \"\"\"\n",
        "    with open(dataset_path, \"r\") as f:\n",
        "        buffer = []\n",
        "        for line in f:\n",
        "            # Preprocess the line and get its embedding\n",
        "            question = preprocess_line(line.strip())\n",
        "            embedding = get_text_embedding(question, model)\n",
        "            buffer.append(embedding)\n",
        "\n",
        "            # Add embeddings to the index in batches\n",
        "            if len(buffer) >= batch_size:\n",
        "                index.add(np.array(buffer, dtype=np.float32))\n",
        "                buffer = []  # Clear the buffer after adding\n",
        "\n",
        "        # Add remaining embeddings (if any) after loop finishes\n",
        "        if buffer:\n",
        "            index.add(np.array(buffer, dtype=np.float32))\n",
        "\n",
        "\n",
        "def search_faiss_index(embeddings_storage: faiss.Index, query: str, model, k: int = 5) -> Tuple[List[int], List[float]]:\n",
        "    \"\"\"\n",
        "    Searches the FAISS index for the closest matches to a query.\n",
        "\n",
        "    This function computes the embedding for the input query, searches the FAISS index for the most similar questions,\n",
        "    and returns the indices and distances (cosine similarity) of the top-k matches.\n",
        "\n",
        "    Parameters:\n",
        "        embeddings_storage (faiss.Index): FAISS index to search.\n",
        "        query (str): The input query string to search for.\n",
        "        model: Trained FastText model used to generate embeddings.\n",
        "        k (int, optional): Number of closest matches to retrieve. Default is 5.\n",
        "\n",
        "    Returns:\n",
        "        Tuple[List[int], List[float]]:\n",
        "            - List[int]: A list of indices of the top-k most similar questions.\n",
        "            - List[float]: A list of distances (cosine similarity) of the top-k results.\n",
        "    \"\"\"\n",
        "    # Preprocess and normalize the query embedding\n",
        "    query_embedding = get_text_embedding(query, model)\n",
        "\n",
        "    # Search the embeddings_storage (FAISS index)\n",
        "    top_k_distances, top_k_indices = embeddings_storage.search(np.array([query_embedding], dtype=np.float32), k)\n",
        "\n",
        "    # Match return format with that used in numpy storage search\n",
        "    top_k_indices_list = top_k_indices[0].tolist()\n",
        "    top_k_distances_list = top_k_distances[0].tolist()\n",
        "\n",
        "    return top_k_indices_list, top_k_distances_list\n"
      ]
    },
    {
      "cell_type": "markdown",
      "metadata": {
        "id": "3jyc6V3LyHkq"
      },
      "source": [
        "Building a faiss may take some time, it's ok. In some sense, we trade computations during index constuction for query time later."
      ]
    },
    {
      "cell_type": "code",
      "execution_count": 434,
      "metadata": {
        "id": "JdcPB-XRw-RE"
      },
      "outputs": [],
      "source": [
        "# Define the dimensions of the embedding vectors\n",
        "embedding_dimension = finetuned_model.vector_size  # Depends on the FastText model\n",
        "\n",
        "# Build the HNSW index\n",
        "hnsw_index = build_faiss_hnsw_index(embedding_dimension)\n",
        "\n",
        "# Populate the index from the quora_processed.txt dataset\n",
        "populate_faiss_index(hnsw_index, finetuned_model, \"quora_processed.txt\")\n"
      ]
    },
    {
      "cell_type": "markdown",
      "metadata": {
        "id": "5UnCFwTz5-3x"
      },
      "source": [
        "Note that we built a FAISS index around Euclidian distance, not cosine similarity, to be completely honest:\n",
        "\n",
        "$$\n",
        "cosine \\space similarity = 1 - \\frac{euclidian \\space distance^2}{2}\n",
        "$$"
      ]
    },
    {
      "cell_type": "markdown",
      "metadata": {
        "id": "UZGDk2Pc9brd"
      },
      "source": [
        "Note that the results obtained may not entirely repeat a numpy-based search since HNSW index is built upon approximate computations."
      ]
    },
    {
      "cell_type": "code",
      "execution_count": 435,
      "metadata": {
        "colab": {
          "base_uri": "https://localhost:8080/"
        },
        "id": "vxEXNNtexQOo",
        "outputId": "b57e83af-955a-4831-fcb1-5e5b9513d6a7"
      },
      "outputs": [
        {
          "output_type": "stream",
          "name": "stdout",
          "text": [
            "Query: How can I find inner peace?\n",
            "\n",
            "Top Matches:\n",
            "1. How can I find a career mentor? (Similarity: -0.0140)\n",
            "2. How can I find a successful mentor? (Similarity: -0.0148)\n",
            "3. How can I find passion? (Similarity: -0.0150)\n",
            "4. How can I find a programmer mentor? (Similarity: -0.0161)\n",
            "5. How can I find inspiration? (Similarity: -0.0180)\n",
            "6. How can I find a startup mentor? (Similarity: -0.0196)\n",
            "7. How can I find app developers? (Similarity: -0.0200)\n",
            "8. How can I find a JavaScript programmer mentor? (Similarity: -0.0200)\n",
            "9. How can I find a perfect co-founder? (Similarity: -0.0202)\n",
            "10. How can I find someone's MSN profile? (Similarity: -0.0209)\n"
          ]
        }
      ],
      "source": [
        "# Example query\n",
        "query_text = \"How can I find inner peace?\"\n",
        "\n",
        "top_k_indices, top_k_similarities = fetch_and_display_closest_match(query_function=search_faiss_index,\n",
        "                                                                    query=query_text, model=finetuned_model,\n",
        "                                                                    embeddings_storage=hnsw_index,\n",
        "                                                                    k=10)"
      ]
    },
    {
      "cell_type": "code",
      "execution_count": 436,
      "metadata": {
        "colab": {
          "base_uri": "https://localhost:8080/"
        },
        "id": "C03Jsr1zimrU",
        "outputId": "93a301d4-84f4-4180-c4ba-ba41d450c9de"
      },
      "outputs": [
        {
          "output_type": "stream",
          "name": "stdout",
          "text": [
            "Query: How can I find inner peace?\n",
            "\n",
            "Top Matches:\n",
            "1. How can I find a career mentor? (Similarity: -0.0140)\n",
            "2. How can I find a successful mentor? (Similarity: -0.0148)\n",
            "3. How can I find passion? (Similarity: -0.0150)\n",
            "4. How can I find a programmer mentor? (Similarity: -0.0161)\n",
            "5. How can I find inspiration? (Similarity: -0.0180)\n",
            "6. How can I find a startup mentor? (Similarity: -0.0196)\n",
            "7. How can I find app developers? (Similarity: -0.0200)\n",
            "8. How can I find a JavaScript programmer mentor? (Similarity: -0.0200)\n",
            "9. How can I find a perfect co-founder? (Similarity: -0.0202)\n",
            "10. How can I find someone's MSN profile? (Similarity: -0.0209)\n",
            "11. How can I prevent business failure? (Similarity: -0.0211)\n",
            "12. How can I prevent acne? (Similarity: -0.0212)\n",
            "13. How can I learn meditation? (Similarity: -0.0230)\n",
            "14. How can I find mentors? (Similarity: -0.0231)\n",
            "15. How can I find a job? (Similarity: -0.0231)\n",
            "16. How can I find gymnastics videos? (Similarity: -0.0234)\n",
            "17. How can I find a source code? (Similarity: -0.0235)\n",
            "18. How can I learn investment? (Similarity: -0.0237)\n",
            "19. How can I learn computer security? (Similarity: -0.0238)\n",
            "20. How can I find a pro bono lawyer? (Similarity: -0.0240)\n"
          ]
        }
      ],
      "source": [
        "# Example query\n",
        "query_text = \"How can I find inner peace?\"\n",
        "\n",
        "top_k_indices, top_k_similarities = fetch_and_display_closest_match(query_function=search_faiss_index,\n",
        "                                                                    query=query_text, model=finetuned_model,\n",
        "                                                                    embeddings_storage=hnsw_index,\n",
        "                                                                    k=20)"
      ]
    },
    {
      "cell_type": "code",
      "execution_count": 437,
      "metadata": {
        "colab": {
          "base_uri": "https://localhost:8080/"
        },
        "id": "EYAdJNkO4dGA",
        "outputId": "1ea81408-45b7-4d4a-935b-e4a4bb9d4b01"
      },
      "outputs": [
        {
          "output_type": "stream",
          "name": "stdout",
          "text": [
            "Time elapsed: 0.0411 seconds.\n",
            "Average time: 0.0004 seconds.\n"
          ]
        }
      ],
      "source": [
        "import time\n",
        "\n",
        "iterations = 100\n",
        "\n",
        "start_time = time.time()\n",
        "\n",
        "for _ in range(iterations):\n",
        "    _, _ = search_faiss_index(hnsw_index, query_text, finetuned_model, k=10)\n",
        "\n",
        "time_elapsed = time.time() - start_time\n",
        "average_time = time_elapsed / iterations\n",
        "\n",
        "print(f'Time elapsed: {time_elapsed:.4f} seconds.')\n",
        "print(f'Average time: {average_time:.4f} seconds.')"
      ]
    },
    {
      "cell_type": "markdown",
      "metadata": {
        "id": "mFmyOsoC6qez"
      },
      "source": [
        "Note that we achieved a two orders of magnitude speed-up!"
      ]
    },
    {
      "cell_type": "markdown",
      "metadata": {
        "id": "FkItnFGLmY2Z"
      },
      "source": [
        "What to do next?\n",
        "\n",
        "As far as embeddings are concerned, you might want to improve how a single word embedding is obtained or introduce individual embeddings weighings with e.g. TF-IDF. Further in the course, you will learn better (yet substantially computationally heavy) ways to represent an arbitrary text other than aggregating standalone vectors. However, word-level embeddings are still a decent option if computational resources are limited.\n",
        "\n",
        "As far as query engine is concerned, caching is a great option to get rid of redundant queries. For example, take a look at [Redis](https://redis.io/learn/howtos/solutions/microservices/caching)."
      ]
    }
  ],
  "metadata": {
    "colab": {
      "provenance": []
    },
    "kernelspec": {
      "display_name": "Python 3",
      "language": "python",
      "name": "python3"
    },
    "language_info": {
      "codemirror_mode": {
        "name": "ipython",
        "version": 3
      },
      "file_extension": ".py",
      "mimetype": "text/x-python",
      "name": "python",
      "nbconvert_exporter": "python",
      "pygments_lexer": "ipython3",
      "version": "3.5.2"
    }
  },
  "nbformat": 4,
  "nbformat_minor": 0
}